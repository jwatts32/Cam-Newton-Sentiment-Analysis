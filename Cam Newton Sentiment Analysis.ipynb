{
 "cells": [
  {
   "cell_type": "markdown",
   "id": "e019bf30",
   "metadata": {},
   "source": [
    "<h2>Import libraries"
   ]
  },
  {
   "cell_type": "code",
   "execution_count": 1,
   "id": "9be52200",
   "metadata": {},
   "outputs": [],
   "source": [
    "import pandas as pd\n",
    "from nltk.sentiment.vader import SentimentIntensityAnalyzer"
   ]
  },
  {
   "cell_type": "markdown",
   "id": "bd0b72be",
   "metadata": {},
   "source": [
    "<h2>Read in Excel file"
   ]
  },
  {
   "cell_type": "code",
   "execution_count": 2,
   "id": "5b72bd13",
   "metadata": {},
   "outputs": [
    {
     "data": {
      "text/html": [
       "<div>\n",
       "<style scoped>\n",
       "    .dataframe tbody tr th:only-of-type {\n",
       "        vertical-align: middle;\n",
       "    }\n",
       "\n",
       "    .dataframe tbody tr th {\n",
       "        vertical-align: top;\n",
       "    }\n",
       "\n",
       "    .dataframe thead th {\n",
       "        text-align: right;\n",
       "    }\n",
       "</style>\n",
       "<table border=\"1\" class=\"dataframe\">\n",
       "  <thead>\n",
       "    <tr style=\"text-align: right;\">\n",
       "      <th></th>\n",
       "      <th>Comments</th>\n",
       "    </tr>\n",
       "  </thead>\n",
       "  <tbody>\n",
       "    <tr>\n",
       "      <th>0</th>\n",
       "      <td>Throughout his entire career Cam Newton took t...</td>\n",
       "    </tr>\n",
       "    <tr>\n",
       "      <th>1</th>\n",
       "      <td>Cam newton was correct about everything he sai...</td>\n",
       "    </tr>\n",
       "    <tr>\n",
       "      <th>2</th>\n",
       "      <td>Cam Newton is a Heisman Trophy Winner, Rookie ...</td>\n",
       "    </tr>\n",
       "    <tr>\n",
       "      <th>3</th>\n",
       "      <td>Cam Newton still has the greatest throw in the...</td>\n",
       "    </tr>\n",
       "    <tr>\n",
       "      <th>4</th>\n",
       "      <td>Whether you agree with Cam Newton or not, he’s...</td>\n",
       "    </tr>\n",
       "  </tbody>\n",
       "</table>\n",
       "</div>"
      ],
      "text/plain": [
       "                                            Comments\n",
       "0  Throughout his entire career Cam Newton took t...\n",
       "1  Cam newton was correct about everything he sai...\n",
       "2  Cam Newton is a Heisman Trophy Winner, Rookie ...\n",
       "3  Cam Newton still has the greatest throw in the...\n",
       "4  Whether you agree with Cam Newton or not, he’s..."
      ]
     },
     "metadata": {},
     "output_type": "display_data"
    }
   ],
   "source": [
    "cam_df = pd.read_excel('Cam Newton Tweets.xlsx')\n",
    "display(cam_df)"
   ]
  },
  {
   "cell_type": "markdown",
   "id": "02d3da80",
   "metadata": {},
   "source": [
    "<h2>Create variable for Sentiment Intensity Analyzer"
   ]
  },
  {
   "cell_type": "code",
   "execution_count": 3,
   "id": "3bba9c65",
   "metadata": {},
   "outputs": [],
   "source": [
    "sia = SentimentIntensityAnalyzer()"
   ]
  },
  {
   "cell_type": "markdown",
   "id": "83c15c3f",
   "metadata": {},
   "source": [
    "<h2>Add new column \"scores\" with polarity scores from Sentiment Intensity Analyzer"
   ]
  },
  {
   "cell_type": "code",
   "execution_count": 4,
   "id": "295fe983",
   "metadata": {},
   "outputs": [
    {
     "data": {
      "text/html": [
       "<div>\n",
       "<style scoped>\n",
       "    .dataframe tbody tr th:only-of-type {\n",
       "        vertical-align: middle;\n",
       "    }\n",
       "\n",
       "    .dataframe tbody tr th {\n",
       "        vertical-align: top;\n",
       "    }\n",
       "\n",
       "    .dataframe thead th {\n",
       "        text-align: right;\n",
       "    }\n",
       "</style>\n",
       "<table border=\"1\" class=\"dataframe\">\n",
       "  <thead>\n",
       "    <tr style=\"text-align: right;\">\n",
       "      <th></th>\n",
       "      <th>Comments</th>\n",
       "      <th>scores</th>\n",
       "    </tr>\n",
       "  </thead>\n",
       "  <tbody>\n",
       "    <tr>\n",
       "      <th>0</th>\n",
       "      <td>Throughout his entire career Cam Newton took t...</td>\n",
       "      <td>{'neg': 0.08, 'neu': 0.92, 'pos': 0.0, 'compou...</td>\n",
       "    </tr>\n",
       "    <tr>\n",
       "      <th>1</th>\n",
       "      <td>Cam newton was correct about everything he sai...</td>\n",
       "      <td>{'neg': 0.0, 'neu': 0.769, 'pos': 0.231, 'comp...</td>\n",
       "    </tr>\n",
       "    <tr>\n",
       "      <th>2</th>\n",
       "      <td>Cam Newton is a Heisman Trophy Winner, Rookie ...</td>\n",
       "      <td>{'neg': 0.034, 'neu': 0.811, 'pos': 0.156, 'co...</td>\n",
       "    </tr>\n",
       "    <tr>\n",
       "      <th>3</th>\n",
       "      <td>Cam Newton still has the greatest throw in the...</td>\n",
       "      <td>{'neg': 0.0, 'neu': 0.741, 'pos': 0.259, 'comp...</td>\n",
       "    </tr>\n",
       "    <tr>\n",
       "      <th>4</th>\n",
       "      <td>Whether you agree with Cam Newton or not, he’s...</td>\n",
       "      <td>{'neg': 0.068, 'neu': 0.865, 'pos': 0.068, 'co...</td>\n",
       "    </tr>\n",
       "  </tbody>\n",
       "</table>\n",
       "</div>"
      ],
      "text/plain": [
       "                                            Comments  \\\n",
       "0  Throughout his entire career Cam Newton took t...   \n",
       "1  Cam newton was correct about everything he sai...   \n",
       "2  Cam Newton is a Heisman Trophy Winner, Rookie ...   \n",
       "3  Cam Newton still has the greatest throw in the...   \n",
       "4  Whether you agree with Cam Newton or not, he’s...   \n",
       "\n",
       "                                              scores  \n",
       "0  {'neg': 0.08, 'neu': 0.92, 'pos': 0.0, 'compou...  \n",
       "1  {'neg': 0.0, 'neu': 0.769, 'pos': 0.231, 'comp...  \n",
       "2  {'neg': 0.034, 'neu': 0.811, 'pos': 0.156, 'co...  \n",
       "3  {'neg': 0.0, 'neu': 0.741, 'pos': 0.259, 'comp...  \n",
       "4  {'neg': 0.068, 'neu': 0.865, 'pos': 0.068, 'co...  "
      ]
     },
     "metadata": {},
     "output_type": "display_data"
    }
   ],
   "source": [
    "cam_df['scores'] = cam_df['Comments'].apply(lambda review:sia.polarity_scores(review))\n",
    "display(cam_df)"
   ]
  },
  {
   "cell_type": "markdown",
   "id": "db22a5e8",
   "metadata": {},
   "source": [
    "<h2>Add new column \"compound\" that shows just the compound score from the polarity scores"
   ]
  },
  {
   "cell_type": "code",
   "execution_count": 5,
   "id": "7b59659d",
   "metadata": {},
   "outputs": [
    {
     "data": {
      "text/html": [
       "<div>\n",
       "<style scoped>\n",
       "    .dataframe tbody tr th:only-of-type {\n",
       "        vertical-align: middle;\n",
       "    }\n",
       "\n",
       "    .dataframe tbody tr th {\n",
       "        vertical-align: top;\n",
       "    }\n",
       "\n",
       "    .dataframe thead th {\n",
       "        text-align: right;\n",
       "    }\n",
       "</style>\n",
       "<table border=\"1\" class=\"dataframe\">\n",
       "  <thead>\n",
       "    <tr style=\"text-align: right;\">\n",
       "      <th></th>\n",
       "      <th>Comments</th>\n",
       "      <th>scores</th>\n",
       "      <th>compound</th>\n",
       "    </tr>\n",
       "  </thead>\n",
       "  <tbody>\n",
       "    <tr>\n",
       "      <th>0</th>\n",
       "      <td>Throughout his entire career Cam Newton took t...</td>\n",
       "      <td>{'neg': 0.08, 'neu': 0.92, 'pos': 0.0, 'compou...</td>\n",
       "      <td>-0.3818</td>\n",
       "    </tr>\n",
       "    <tr>\n",
       "      <th>1</th>\n",
       "      <td>Cam newton was correct about everything he sai...</td>\n",
       "      <td>{'neg': 0.0, 'neu': 0.769, 'pos': 0.231, 'comp...</td>\n",
       "      <td>0.5994</td>\n",
       "    </tr>\n",
       "    <tr>\n",
       "      <th>2</th>\n",
       "      <td>Cam Newton is a Heisman Trophy Winner, Rookie ...</td>\n",
       "      <td>{'neg': 0.034, 'neu': 0.811, 'pos': 0.156, 'co...</td>\n",
       "      <td>0.6652</td>\n",
       "    </tr>\n",
       "    <tr>\n",
       "      <th>3</th>\n",
       "      <td>Cam Newton still has the greatest throw in the...</td>\n",
       "      <td>{'neg': 0.0, 'neu': 0.741, 'pos': 0.259, 'comp...</td>\n",
       "      <td>0.6369</td>\n",
       "    </tr>\n",
       "    <tr>\n",
       "      <th>4</th>\n",
       "      <td>Whether you agree with Cam Newton or not, he’s...</td>\n",
       "      <td>{'neg': 0.068, 'neu': 0.865, 'pos': 0.068, 'co...</td>\n",
       "      <td>0.0000</td>\n",
       "    </tr>\n",
       "  </tbody>\n",
       "</table>\n",
       "</div>"
      ],
      "text/plain": [
       "                                            Comments  \\\n",
       "0  Throughout his entire career Cam Newton took t...   \n",
       "1  Cam newton was correct about everything he sai...   \n",
       "2  Cam Newton is a Heisman Trophy Winner, Rookie ...   \n",
       "3  Cam Newton still has the greatest throw in the...   \n",
       "4  Whether you agree with Cam Newton or not, he’s...   \n",
       "\n",
       "                                              scores  compound  \n",
       "0  {'neg': 0.08, 'neu': 0.92, 'pos': 0.0, 'compou...   -0.3818  \n",
       "1  {'neg': 0.0, 'neu': 0.769, 'pos': 0.231, 'comp...    0.5994  \n",
       "2  {'neg': 0.034, 'neu': 0.811, 'pos': 0.156, 'co...    0.6652  \n",
       "3  {'neg': 0.0, 'neu': 0.741, 'pos': 0.259, 'comp...    0.6369  \n",
       "4  {'neg': 0.068, 'neu': 0.865, 'pos': 0.068, 'co...    0.0000  "
      ]
     },
     "metadata": {},
     "output_type": "display_data"
    }
   ],
   "source": [
    "cam_df['compound'] = cam_df['scores'].apply(lambda d:d['compound'])\n",
    "display(cam_df)"
   ]
  },
  {
   "cell_type": "markdown",
   "id": "42954f76",
   "metadata": {},
   "source": [
    "<h2>Add new column \"comp_score\" to show if compound score was negative or positive"
   ]
  },
  {
   "cell_type": "code",
   "execution_count": 6,
   "id": "5d38bbb6",
   "metadata": {},
   "outputs": [
    {
     "data": {
      "text/html": [
       "<div>\n",
       "<style scoped>\n",
       "    .dataframe tbody tr th:only-of-type {\n",
       "        vertical-align: middle;\n",
       "    }\n",
       "\n",
       "    .dataframe tbody tr th {\n",
       "        vertical-align: top;\n",
       "    }\n",
       "\n",
       "    .dataframe thead th {\n",
       "        text-align: right;\n",
       "    }\n",
       "</style>\n",
       "<table border=\"1\" class=\"dataframe\">\n",
       "  <thead>\n",
       "    <tr style=\"text-align: right;\">\n",
       "      <th></th>\n",
       "      <th>Comments</th>\n",
       "      <th>scores</th>\n",
       "      <th>compound</th>\n",
       "      <th>comp_score</th>\n",
       "    </tr>\n",
       "  </thead>\n",
       "  <tbody>\n",
       "    <tr>\n",
       "      <th>0</th>\n",
       "      <td>Throughout his entire career Cam Newton took t...</td>\n",
       "      <td>{'neg': 0.08, 'neu': 0.92, 'pos': 0.0, 'compou...</td>\n",
       "      <td>-0.3818</td>\n",
       "      <td>neg</td>\n",
       "    </tr>\n",
       "    <tr>\n",
       "      <th>1</th>\n",
       "      <td>Cam newton was correct about everything he sai...</td>\n",
       "      <td>{'neg': 0.0, 'neu': 0.769, 'pos': 0.231, 'comp...</td>\n",
       "      <td>0.5994</td>\n",
       "      <td>pos</td>\n",
       "    </tr>\n",
       "    <tr>\n",
       "      <th>2</th>\n",
       "      <td>Cam Newton is a Heisman Trophy Winner, Rookie ...</td>\n",
       "      <td>{'neg': 0.034, 'neu': 0.811, 'pos': 0.156, 'co...</td>\n",
       "      <td>0.6652</td>\n",
       "      <td>pos</td>\n",
       "    </tr>\n",
       "    <tr>\n",
       "      <th>3</th>\n",
       "      <td>Cam Newton still has the greatest throw in the...</td>\n",
       "      <td>{'neg': 0.0, 'neu': 0.741, 'pos': 0.259, 'comp...</td>\n",
       "      <td>0.6369</td>\n",
       "      <td>pos</td>\n",
       "    </tr>\n",
       "    <tr>\n",
       "      <th>4</th>\n",
       "      <td>Whether you agree with Cam Newton or not, he’s...</td>\n",
       "      <td>{'neg': 0.068, 'neu': 0.865, 'pos': 0.068, 'co...</td>\n",
       "      <td>0.0000</td>\n",
       "      <td>pos</td>\n",
       "    </tr>\n",
       "  </tbody>\n",
       "</table>\n",
       "</div>"
      ],
      "text/plain": [
       "                                            Comments  \\\n",
       "0  Throughout his entire career Cam Newton took t...   \n",
       "1  Cam newton was correct about everything he sai...   \n",
       "2  Cam Newton is a Heisman Trophy Winner, Rookie ...   \n",
       "3  Cam Newton still has the greatest throw in the...   \n",
       "4  Whether you agree with Cam Newton or not, he’s...   \n",
       "\n",
       "                                              scores  compound comp_score  \n",
       "0  {'neg': 0.08, 'neu': 0.92, 'pos': 0.0, 'compou...   -0.3818        neg  \n",
       "1  {'neg': 0.0, 'neu': 0.769, 'pos': 0.231, 'comp...    0.5994        pos  \n",
       "2  {'neg': 0.034, 'neu': 0.811, 'pos': 0.156, 'co...    0.6652        pos  \n",
       "3  {'neg': 0.0, 'neu': 0.741, 'pos': 0.259, 'comp...    0.6369        pos  \n",
       "4  {'neg': 0.068, 'neu': 0.865, 'pos': 0.068, 'co...    0.0000        pos  "
      ]
     },
     "metadata": {},
     "output_type": "display_data"
    }
   ],
   "source": [
    "cam_df['comp_score'] = cam_df['compound'].apply(lambda score: 'pos' if score >= 0 else 'neg')\n",
    "display(cam_df)"
   ]
  }
 ],
 "metadata": {
  "kernelspec": {
   "display_name": "Python 3 (ipykernel)",
   "language": "python",
   "name": "python3"
  },
  "language_info": {
   "codemirror_mode": {
    "name": "ipython",
    "version": 3
   },
   "file_extension": ".py",
   "mimetype": "text/x-python",
   "name": "python",
   "nbconvert_exporter": "python",
   "pygments_lexer": "ipython3",
   "version": "3.11.4"
  }
 },
 "nbformat": 4,
 "nbformat_minor": 5
}
